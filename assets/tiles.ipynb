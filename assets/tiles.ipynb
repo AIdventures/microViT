{
 "cells": [
  {
   "cell_type": "code",
   "execution_count": 29,
   "id": "90ee7eda-9342-43ac-acc2-965272e1b0c7",
   "metadata": {},
   "outputs": [],
   "source": [
    "import math\n",
    "import numpy as np\n",
    "from sklearn.datasets import fetch_openml\n",
    "import matplotlib.pyplot as plt"
   ]
  },
  {
   "cell_type": "code",
   "execution_count": 3,
   "id": "afde6357-4b4a-4c49-951e-e7e8b1d40bf3",
   "metadata": {},
   "outputs": [],
   "source": [
    "mnist = fetch_openml('mnist_784', version=1)"
   ]
  },
  {
   "cell_type": "code",
   "execution_count": 15,
   "id": "23b86c57-1430-4b75-8b8a-fc135ddc7780",
   "metadata": {},
   "outputs": [],
   "source": [
    "imgs, labels = np.array(mnist[\"data\"]), mnist[\"target\"].tolist()"
   ]
  },
  {
   "cell_type": "markdown",
   "id": "5899b5b5-968a-4c9d-a124-4c34f07395bc",
   "metadata": {},
   "source": [
    "## General Visualization"
   ]
  },
  {
   "cell_type": "code",
   "execution_count": 22,
   "id": "50a73a93-40c4-43eb-af06-6a3e2499a9ee",
   "metadata": {},
   "outputs": [
    {
     "data": {
      "image/png": "[encoded data removed]",
      "text/plain": [
       "<Figure size 600x600 with 9 Axes>"
      ]
     },
     "metadata": {},
     "output_type": "display_data"
    }
   ],
   "source": [
    "r, c = 3, 3\n",
    "fig = plt.figure(figsize=(2*c, 2*r))\n",
    "for _r in range(r):\n",
    "    for _c in range(c):\n",
    "        ix = _r*c + _c\n",
    "        ax = plt.subplot(r, c, ix + 1)\n",
    "        img, label = imgs[ix], labels[ix]\n",
    "        ax.axis(\"off\")\n",
    "        ax.imshow(img.reshape(28,28), cmap=\"gray\")\n",
    "        ax.set_title(label)\n",
    "plt.tight_layout()\n",
    "plt.show()"
   ]
  },
  {
   "cell_type": "markdown",
   "id": "dbf3f254-e7e1-4df4-846b-da1158688d12",
   "metadata": {},
   "source": [
    "## Case to tiles"
   ]
  },
  {
   "cell_type": "code",
   "execution_count": 24,
   "id": "01f65b32-8f53-4970-a619-2ac8a47a965c",
   "metadata": {},
   "outputs": [],
   "source": [
    "case = 2\n",
    "image = imgs[case].reshape(28,28)\n",
    "label = labels[case]"
   ]
  },
  {
   "cell_type": "code",
   "execution_count": 26,
   "id": "92bd6c7f-1555-451a-8dbf-1891d70929f9",
   "metadata": {},
   "outputs": [
    {
     "data": {
      "text/plain": [
       "(-0.5, 27.5, 27.5, -0.5)"
      ]
     },
     "execution_count": 26,
     "metadata": {},
     "output_type": "execute_result"
    },
    {
     "data": {
      "image/png": "[encoded data removed]",
      "text/plain": [
       "<Figure size 300x300 with 1 Axes>"
      ]
     },
     "metadata": {},
     "output_type": "display_data"
    }
   ],
   "source": [
    "plt.figure(figsize=(3,3))\n",
    "plt.imshow(image, cmap=\"gray\")\n",
    "plt.title(label)\n",
    "plt.axis(\"off\")"
   ]
  },
  {
   "cell_type": "code",
   "execution_count": 34,
   "id": "997bf9ae-db79-491e-9e83-7b5a85db58ed",
   "metadata": {},
   "outputs": [
    {
     "data": {
      "image/png": "[encoded data removed]",
      "text/plain": [
       "<Figure size 300x300 with 16 Axes>"
      ]
     },
     "metadata": {},
     "output_type": "display_data"
    }
   ],
   "source": [
    "# Crop the image into 16 parts of size 7x7\n",
    "img_size = 28\n",
    "patch_size = 7\n",
    "\n",
    "n_patches = (img_size // patch_size) ** 2\n",
    "dim = int(math.sqrt(n_patches))\n",
    "\n",
    "parts = [\n",
    "    image[i:i+patch_size, j:j+patch_size]\n",
    "    for i in range(0, 28, patch_size)\n",
    "    for j in range(0, 28, patch_size)\n",
    "]\n",
    "\n",
    "# Plot the parts using subplots\n",
    "fig, axs = plt.subplots(dim, dim, figsize=(3, 3))\n",
    "for i in range(dim):\n",
    "    for j in range(dim):\n",
    "        axs[i, j].imshow(parts[i*dim+j], cmap='gray')\n",
    "        axs[i, j].axis(\"off\")\n",
    "plt.show()"
   ]
  }
 ],
 "metadata": {
  "kernelspec": {
   "display_name": "Python 3 (ipykernel)",
   "language": "python",
   "name": "python3"
  },
  "language_info": {
   "codemirror_mode": {
    "name": "ipython",
    "version": 3
   },
   "file_extension": ".py",
   "mimetype": "text/x-python",
   "name": "python",
   "nbconvert_exporter": "python",
   "pygments_lexer": "ipython3",
   "version": "3.11.5"
  }
 },
 "nbformat": 4,
 "nbformat_minor": 5
}
